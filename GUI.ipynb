{
  "nbformat": 4,
  "nbformat_minor": 0,
  "metadata": {
    "colab": {
      "name": "GUI.ipynb",
      "provenance": [],
      "authorship_tag": "ABX9TyMYmU64Pw0Tr/Mh/tXTN6Sa",
      "include_colab_link": true
    },
    "kernelspec": {
      "name": "python3",
      "display_name": "Python 3"
    },
    "language_info": {
      "name": "python"
    }
  },
  "cells": [
    {
      "cell_type": "markdown",
      "metadata": {
        "id": "view-in-github",
        "colab_type": "text"
      },
      "source": [
        "<a href=\"https://colab.research.google.com/github/Mayro19/OOP-1-1/blob/main/GUI.ipynb\" target=\"_parent\"><img src=\"https://colab.research.google.com/assets/colab-badge.svg\" alt=\"Open In Colab\"/></a>"
      ]
    },
    {
      "cell_type": "markdown",
      "source": [
        "Students' Grade in OOP Subject"
      ],
      "metadata": {
        "id": "mX17DIzj479i"
      }
    },
    {
      "cell_type": "code",
      "source": [
        "#@title Students' Grade in OOP\n",
        "Student_name = \"Miro G. Angeles\" #@param {type:\"string\"}\n",
        "prelim = 94 #@param {type:'number'}\n",
        "midterm = 88 #@param {type:'number'}\n",
        "final = 100 #@param {type:'number'}\n",
        "semestral_grade = round((prelim + midterm + final)/3,2)\n",
        "\n",
        "print(\"My prelim grade is: \"+ str(prelim))\n",
        "print(\"My midterm grade is: \"+ str(midterm))\n",
        "print(\"My final grade is: \"+ str(final))\n",
        "print(\"My semestral grade is: \"+ str(semestral_grade))\n",
        "\n",
        "Gender = \"Male\" #@param[\"Male\",\"Female\"]\n",
        "Birthdate = '06-19-2003' #@param{type:\"date\"}\n",
        "\n",
        "print(\"My birthdate is\"+ Birthdate)"
      ],
      "metadata": {
        "colab": {
          "base_uri": "https://localhost:8080/"
        },
        "id": "JgEXz2Qg5BX3",
        "outputId": "f8cbaef9-559c-4f43-f27b-29a35e5d7e2c"
      },
      "execution_count": 1,
      "outputs": [
        {
          "output_type": "stream",
          "name": "stdout",
          "text": [
            "My prelim grade is: 94\n",
            "My midterm grade is: 88\n",
            "My final grade is: 100\n",
            "My semestral grade is: 94.0\n",
            "My birthdate is06-19-2003\n"
          ]
        }
      ]
    }
  ]
}