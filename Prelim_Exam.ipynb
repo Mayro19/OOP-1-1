{
  "nbformat": 4,
  "nbformat_minor": 0,
  "metadata": {
    "colab": {
      "name": "Prelim Exam.ipynb",
      "provenance": [],
      "authorship_tag": "ABX9TyMN06R8Maik5Iu0gBvi0UvM",
      "include_colab_link": true
    },
    "kernelspec": {
      "name": "python3",
      "display_name": "Python 3"
    },
    "language_info": {
      "name": "python"
    }
  },
  "cells": [
    {
      "cell_type": "markdown",
      "metadata": {
        "id": "view-in-github",
        "colab_type": "text"
      },
      "source": [
        "<a href=\"https://colab.research.google.com/github/Mayro19/OOP-1-1/blob/main/Prelim_Exam.ipynb\" target=\"_parent\"><img src=\"https://colab.research.google.com/assets/colab-badge.svg\" alt=\"Open In Colab\"/></a>"
      ]
    },
    {
      "cell_type": "markdown",
      "source": [
        "1. Write a Python Program to display your full name, student number, age, and course.\n",
        "2. Create a class named Student with attributes: Name, Student_No, Age, School, and Course.\n",
        "3. Create an object name Myself and assign an instance for each attribute.\n",
        "4. Create a method info() using an instantiation of a class."
      ],
      "metadata": {
        "id": "17bT7U3i6g9Q"
      }
    },
    {
      "cell_type": "code",
      "source": [
        "def personal_details():\n",
        "  name = \"Miro Angeles\"\n",
        "  student_number = \"202101487\"\n",
        "  age = 18\n",
        "  course = \"Bachelor of Science in Computer Engineering\"\n",
        "\n",
        "  print(\"Name: {}\\nStudent_number: {}\\nAge: {}\\nCourse: {}\".format(name, student_number, age, course))\n",
        "\n",
        "personal_details()"
      ],
      "metadata": {
        "colab": {
          "base_uri": "https://localhost:8080/"
        },
        "id": "QQoNxL4g7BR6",
        "outputId": "d90aef4f-3f7a-41fa-e964-509ae9b9b7c0"
      },
      "execution_count": 12,
      "outputs": [
        {
          "output_type": "stream",
          "name": "stdout",
          "text": [
            "Name: Miro Angeles\n",
            "Student_number: 202101487\n",
            "Age: 18\n",
            "Course: Bachelor of Science in Computer Engineering\n"
          ]
        }
      ]
    },
    {
      "cell_type": "code",
      "source": [
        "class Student:\n",
        "  def __init__(self,Name,Student_No,Age,School,Course):\n",
        "    self.Name = Name\n",
        "    self.Student_No = Student_No\n",
        "    self.Age = Age\n",
        "    self.School = School\n",
        "    self.Course = Course\n",
        "\n",
        "  def Myself(self):\n",
        "    print(\"My name is\",self.Name)\n",
        "    print(\"My Student number is\",self.Student_No)\n",
        "    print(\"I am\",self.Age,\"years old\")\n",
        "    print(\"I study at\",self.School)\n",
        "    print(\"I am enrolled as a\",self.Course,\"student\")\n",
        "\n",
        "student_attributes = Student(\"Miro G. Angeles\",\"202101487\",\"18\",\"Cavite State University\",\"Bachelor of Science in Computer Engineering\")\n",
        "student_attributes.Myself()"
      ],
      "metadata": {
        "colab": {
          "base_uri": "https://localhost:8080/"
        },
        "id": "QGIA4csx8mWx",
        "outputId": "57b1664e-b33d-42fc-c6ec-bebc6831e596"
      },
      "execution_count": 11,
      "outputs": [
        {
          "output_type": "stream",
          "name": "stdout",
          "text": [
            "My name is Miro G. Angeles\n",
            "My Student number is 202101487\n",
            "I am 18 years old\n",
            "I study at Cavite State University\n",
            "I am enrolled as a Bachelor of Science in Computer Engineering student\n"
          ]
        }
      ]
    }
  ]
}