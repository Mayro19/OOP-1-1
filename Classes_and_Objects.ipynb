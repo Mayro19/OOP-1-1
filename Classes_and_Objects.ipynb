{
  "nbformat": 4,
  "nbformat_minor": 0,
  "metadata": {
    "colab": {
      "name": "Classes and Objects.ipynb",
      "provenance": [],
      "authorship_tag": "ABX9TyOfFmxvatgfexNI9+/FTWnW",
      "include_colab_link": true
    },
    "kernelspec": {
      "name": "python3",
      "display_name": "Python 3"
    },
    "language_info": {
      "name": "python"
    }
  },
  "cells": [
    {
      "cell_type": "markdown",
      "metadata": {
        "id": "view-in-github",
        "colab_type": "text"
      },
      "source": [
        "<a href=\"https://colab.research.google.com/github/Mayro19/OOP-1-1/blob/main/Classes_and_Objects.ipynb\" target=\"_parent\"><img src=\"https://colab.research.google.com/assets/colab-badge.svg\" alt=\"Open In Colab\"/></a>"
      ]
    },
    {
      "cell_type": "markdown",
      "source": [
        "Application 2 - Write a python program that displays the full name of a student, student number, age, course, school. Create a class name OOP_1_1 and create info() method to diplay the information of a student with full name, student_no, age, course, school as attributes"
      ],
      "metadata": {
        "id": "FLIQJGr-1kkb"
      }
    },
    {
      "cell_type": "code",
      "source": [
        "class OOP_1_1:\n",
        "  def __init__(self,fullname, student_no,age,course,school):\n",
        "    self.fullname = fullname\n",
        "    self.student_no = student_no\n",
        "    self.age = age\n",
        "    self.course = course\n",
        "    self.school = school\n",
        "\n",
        "  def info(self):\n",
        "    #print(self.fullname,self.student_no,self.age,self.course,self.school)\n",
        "    print(\"My name is\", self.fullname)\n",
        "    print(\"My Student number is\", self.student_no)\n",
        "    print(\"I am\", self.age,\"years old\")\n",
        "    print(\"I am a\", self.course,\"student\")\n",
        "    print(\"I study at\", self.school)\n",
        "\n",
        "student = OOP_1_1(\"Miro G. Angeles\", 202101487, 18, \"BSCpE\", \"Cavite State University\")\n",
        "student.info()"
      ],
      "metadata": {
        "colab": {
          "base_uri": "https://localhost:8080/"
        },
        "id": "DyfCR8Q21mz3",
        "outputId": "e78b9e44-b0f4-4027-e2a0-1ea17939128a"
      },
      "execution_count": 5,
      "outputs": [
        {
          "output_type": "stream",
          "name": "stdout",
          "text": [
            "My name is Miro G. Angeles\n",
            "My Student number is 202101487\n",
            "I am 18 years old\n",
            "I am a BSCpE student\n",
            "I study at Cavite State University\n"
          ]
        }
      ]
    },
    {
      "cell_type": "markdown",
      "source": [
        "Application 3 - Define and Area() method of the class Circle that calculates the circle's area. Define a Perimeter() method of the class which allows you to calculate the perimeter of the circle."
      ],
      "metadata": {
        "id": "uBxYMsZS6lvi"
      }
    },
    {
      "cell_type": "code",
      "source": [
        "class Circle:\n",
        "\n",
        "  def __init__(self,PI,Radius):\n",
        "    self.PI = PI\n",
        "    self.Radius = Radius\n",
        "\n",
        "  def Area(self):\n",
        "    print(self.PI * self.Radius * self.Radius)\n",
        "\n",
        "  def Perimeter(self):\n",
        "    print (2 * self.PI * self.Radius)\n",
        "\n",
        "circ = Circle (3.14, 7)\n",
        "circ.Area()\n",
        "circ.Perimeter()"
      ],
      "metadata": {
        "colab": {
          "base_uri": "https://localhost:8080/"
        },
        "id": "7J5Oh_C97ZsU",
        "outputId": "260f3be7-65a6-4adb-a9ab-9c56d271a953"
      },
      "execution_count": 14,
      "outputs": [
        {
          "output_type": "stream",
          "name": "stdout",
          "text": [
            "153.86\n",
            "43.96\n"
          ]
        }
      ]
    }
  ]
}